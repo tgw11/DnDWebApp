{
 "cells": [
  {
   "cell_type": "code",
   "execution_count": 1,
   "id": "37325e5f",
   "metadata": {},
   "outputs": [
    {
     "name": "stdout",
     "output_type": "stream",
     "text": [
      "[40, 10]\n"
     ]
    }
   ],
   "source": [
    "numbers = [20, 5]\n",
    "new_numbers = []\n",
    "\n",
    "for number in numbers:\n",
    "    new_numbers += [number * 2]\n",
    "    \n",
    "print(new_numbers)"
   ]
  },
  {
   "cell_type": "code",
   "execution_count": 3,
   "id": "c3edd7b7",
   "metadata": {},
   "outputs": [
    {
     "name": "stdout",
     "output_type": "stream",
     "text": [
      "w \n",
      "w o \n",
      "w o r \n",
      "w o r l \n",
      "w o r l d \n"
     ]
    }
   ],
   "source": [
    "name = 'world'\n",
    "long = ''\n",
    "for wurzi in name:\n",
    "    long += wurzi+ ' '\n",
    "    print(long)"
   ]
  },
  {
   "cell_type": "code",
   "execution_count": 10,
   "id": "465671d9",
   "metadata": {},
   "outputs": [
    {
     "name": "stdout",
     "output_type": "stream",
     "text": [
      "b\n",
      "b\n",
      "a\n",
      "a\n",
      "a\n",
      "d\n",
      "d\n",
      "c\n",
      "e\n",
      "f\n",
      "f\n",
      "f\n",
      "f\n",
      "f\n",
      "f\n",
      "f\n",
      "21.5\n"
     ]
    }
   ],
   "source": [
    "zoo = ['giraffe', 'giraffe', 'monkey', 'monkey', 'monkey', 'elephant', 'elephant', 'parrot', 'snake', 'fish', 'fish', 'fish', 'fish', 'fish', 'fish', 'fish']\n",
    "foodcost = 0.0\n",
    "\n",
    "for animal in zoo:\n",
    "    if animal == 'monkey': \n",
    "        foodcost += 2.0\n",
    "        print('a')\n",
    "    elif animal == 'giraffe':\n",
    "        foodcost += 1.5\n",
    "        print('b')\n",
    "    elif animal == 'parrot':\n",
    "        foodcost += 0.5\n",
    "        print('c')\n",
    "    elif animal == 'elephant':\n",
    "        foodcost += 3.0\n",
    "        print('d')\n",
    "    elif animal == 'snake':\n",
    "        foodcost += 2.5\n",
    "        print('e')\n",
    "    elif animal == 'fish':\n",
    "        foodcost += 0.5\n",
    "        print('f')\n",
    "\n",
    "print(foodcost)\n"
   ]
  },
  {
   "cell_type": "code",
   "execution_count": 9,
   "id": "14483a75",
   "metadata": {},
   "outputs": [
    {
     "data": {
      "text/plain": [
       "0.30000000000000004"
      ]
     },
     "execution_count": 9,
     "metadata": {},
     "output_type": "execute_result"
    }
   ],
   "source": [
    "0.1 + 0.2\n"
   ]
  },
  {
   "cell_type": "code",
   "execution_count": null,
   "id": "792a51d2",
   "metadata": {},
   "outputs": [
    {
     "data": {
      "text/plain": [
       "True"
      ]
     },
     "execution_count": 10,
     "metadata": {},
     "output_type": "execute_result"
    }
   ],
   "source": [
    "one = 2\n",
    "three = 3\n",
    "two = 5\n",
    "\n",
    "one + three == two"
   ]
  },
  {
   "cell_type": "code",
   "execution_count": null,
   "id": "91029c8b",
   "metadata": {},
   "outputs": [
    {
     "name": "stdout",
     "output_type": "stream",
     "text": [
      "True\n"
     ]
    }
   ],
   "source": [
    "things = ['My', 'best', 'Friend']\n",
    "thing_to_find = 'Friend'\n",
    "true = 0\n",
    "for thing in things:\n",
    "    if thing == thing_to_find:\n",
    "        true += 1\n",
    "    else:\n",
    "        true += 0\n",
    "if true == 1:\n",
    "    print(True)\n",
    "else:\n",
    "    print(False)"
   ]
  },
  {
   "cell_type": "code",
   "execution_count": null,
   "id": "e83c265a",
   "metadata": {},
   "outputs": [],
   "source": [
    "numbers = [1, 2, 3, 4, 5, 6, 7, 8, 9, 10, 11, 12]\n",
    "\n",
    "for number in numbers:\n",
    "        print(f\"{number} x {numbers[0]} = {number * numbers[0]}\")\n",
    "        print(f\"{number} x {numbers[1]} = {number * numbers[1]}\")\n",
    "        print(f\"{number} x {numbers[2]} = {number * numbers[2]}\")\n",
    "        print(f\"{number} x {numbers[3]} = {number * numbers[3]}\")\n",
    "        print(f\"{number} x {numbers[4]} = {number * numbers[4]}\")\n",
    "        print(f\"{number} x {numbers[5]} = {number * numbers[5]}\")\n",
    "        print(f\"{number} x {numbers[6]} = {number * numbers[6]}\")\n",
    "        print(f\"{number} x {numbers[7]} = {number * numbers[7]}\")\n",
    "        print(f\"{number} x {numbers[8]} = {number * numbers[8]}\")\n",
    "        print(f\"{number} x {numbers[9]} = {number * numbers[9]}\")\n",
    "        print(f\"{number} x {numbers[10]} = {number * numbers[10]}\")\n",
    "        print(f\"{number} x {numbers[11]} = {number * numbers[11]}\")\n",
    "        print('---')"
   ]
  },
  {
   "cell_type": "code",
   "execution_count": null,
   "id": "0cf914ad",
   "metadata": {},
   "outputs": [],
   "source": [
    "letters = \"ABCD\"\n",
    "\n",
    "for letter1 in letters:\n",
    "    for letter2 in letters:\n",
    "        for letter3 in letters:\n",
    "            for letter4 in letters:\n",
    "                print(f\"{letter1}{letter2}{letter3}{letter4}\")"
   ]
  },
  {
   "cell_type": "code",
   "execution_count": 15,
   "id": "96a40e1f",
   "metadata": {},
   "outputs": [
    {
     "data": {
      "text/plain": [
       "range(0, 4)"
      ]
     },
     "execution_count": 15,
     "metadata": {},
     "output_type": "execute_result"
    }
   ],
   "source": [
    "liste = [1,2,3]\n",
    "liste.index(1)\n",
    "#list(range(liste.index(1), ))\n",
    "players = ['Charlie', 'Alice', 'Dylan', 'Bob']\n",
    "indices = range(len(players))\n",
    "indices"
   ]
  },
  {
   "cell_type": "code",
   "execution_count": 17,
   "id": "4d822425",
   "metadata": {},
   "outputs": [
    {
     "name": "stdout",
     "output_type": "stream",
     "text": [
      "d\n"
     ]
    }
   ],
   "source": [
    "string = 'def'\n",
    "\n",
    "print(string[0])"
   ]
  },
  {
   "cell_type": "code",
   "execution_count": null,
   "id": "2f553256",
   "metadata": {},
   "outputs": [],
   "source": [
    "strings = [\n",
    "    [\n",
    "        \"hello there\",\n",
    "        \"how are you\",\n",
    "    ],\n",
    "    [\n",
    "        \"goodbye world\",\n",
    "        \"hello world\",\n",
    "    ]\n",
    "]\n",
    "word = \"hello\"\n",
    "\n",
    "for str1 in strings:\n",
    "    for str2 in str1:\n",
    "        if word in str2:\n",
    "            print(str2)\n"
   ]
  },
  {
   "cell_type": "code",
   "execution_count": null,
   "id": "87b07575",
   "metadata": {},
   "outputs": [],
   "source": [
    "strings = [[\"hello there\", \"how are you\"], [\"goodbye world\", \"hello world\"]]\n",
    "\n",
    "word = \"world\"\n",
    "hasword = False\n",
    "\n",
    "for sublist in strings:\n",
    "    for string in sublist:\n",
    "        if word in string:\n",
    "            hasword = True\n",
    "        else:\n",
    "            if hasword == True:\n",
    "                hasword = True\n",
    "            else: \n",
    "                hasword = False\n",
    "    print(hasword)\n",
    "    hasword = False\n",
    "        "
   ]
  },
  {
   "cell_type": "code",
   "execution_count": 18,
   "id": "153148c5",
   "metadata": {},
   "outputs": [
    {
     "name": "stdout",
     "output_type": "stream",
     "text": [
      "The Zen of Python, by Tim Peters\n",
      "\n",
      "Beautiful is better than ugly.\n",
      "Explicit is better than implicit.\n",
      "Simple is better than complex.\n",
      "Complex is better than complicated.\n",
      "Flat is better than nested.\n",
      "Sparse is better than dense.\n",
      "Readability counts.\n",
      "Special cases aren't special enough to break the rules.\n",
      "Although practicality beats purity.\n",
      "Errors should never pass silently.\n",
      "Unless explicitly silenced.\n",
      "In the face of ambiguity, refuse the temptation to guess.\n",
      "There should be one-- and preferably only one --obvious way to do it.\n",
      "Although that way may not be obvious at first unless you're Dutch.\n",
      "Now is better than never.\n",
      "Although never is often better than *right* now.\n",
      "If the implementation is hard to explain, it's a bad idea.\n",
      "If the implementation is easy to explain, it may be a good idea.\n",
      "Namespaces are one honking great idea -- let's do more of those!\n"
     ]
    }
   ],
   "source": [
    "import this"
   ]
  },
  {
   "cell_type": "code",
   "execution_count": null,
   "id": "56bfe237",
   "metadata": {},
   "outputs": [],
   "source": [
    "indices = range(len(list))\n",
    "\n",
    "list = 'list_of_which_the_indices_are'"
   ]
  },
  {
   "cell_type": "code",
   "execution_count": null,
   "id": "b0a906a6",
   "metadata": {},
   "outputs": [],
   "source": [
    "strings = [\"  b n\", \"f ete\", \"liths\", \"astat\", \"t ene\", \"  r d\"]\n",
    "indices = range(len(strings)-2)\n",
    "\n",
    "for string in strings:\n",
    "    for index in indices:\n",
    "        if index == 0:\n",
    "            print(f\"{string[index]}{string[index+1]}{string[index+2]}{string[index+3]}{string[index+4]}\")\n",
    "        elif index == 1:\n",
    "            print(f\"{string[index]}{string[index+1]}{string[index+2]}{string[index+3]}\")\n",
    "        elif index == 2:\n",
    "            print(f\"{string[index]}{string[index+1]}{string[index+2]}\")\n",
    "        elif index == 3:\n",
    "            print(f\"{string[index]}{string[index+1]}\")\n",
    "        elif index == 4:\n",
    "            print(f\"{string[index]}\")"
   ]
  },
  {
   "cell_type": "code",
   "execution_count": 24,
   "id": "3386416f",
   "metadata": {},
   "outputs": [
    {
     "name": "stdout",
     "output_type": "stream",
     "text": [
      "XXO\n",
      "OOX\n",
      " X \n"
     ]
    }
   ],
   "source": [
    "strings = [\n",
    "            ['X', 'O', ' '],\n",
    "            ['X', 'O', 'X'],\n",
    "            ['O', 'X', ' ']\n",
    "        ]\n",
    "zeile = ''\n",
    "length = len(strings[0])\n",
    "\n",
    "for number in range(length):\n",
    "    for string in strings:\n",
    "        zeile += string[number]\n",
    "    print(zeile)\n",
    "    zeile = ''\n",
    "    "
   ]
  },
  {
   "cell_type": "code",
   "execution_count": 21,
   "id": "7a243393",
   "metadata": {},
   "outputs": [
    {
     "name": "stdout",
     "output_type": "stream",
     "text": [
      "adg\n",
      "beh\n",
      "cfi\n",
      "q q\n",
      "w  \n",
      "e  \n"
     ]
    }
   ],
   "source": [
    "strings = [\"abcqwe\", \"def\", \"ghiq\"]\n",
    "zeile = ''\n",
    "index = 0\n",
    "maxlength = 0\n",
    "\n",
    "for string in strings:\n",
    "    if len(string) > maxlength:\n",
    "        maxlength = len(string)\n",
    "\n",
    "for number in range(maxlength):\n",
    "    for string in strings:\n",
    "        if number > (len(string) -1):\n",
    "            zeile += ' '\n",
    "        else:\n",
    "            zeile += string[number]\n",
    "    print(zeile)\n",
    "    zeile = ''\n",
    "    index +=1\n",
    "    "
   ]
  },
  {
   "cell_type": "code",
   "execution_count": null,
   "id": "1b9a9b2a",
   "metadata": {},
   "outputs": [],
   "source": [
    "def say_hello(person_name):\n",
    "    print(f\"Hello {person_name}!\")\n",
    "    print(\"How are you?\")\n",
    "\n",
    "say_hello(\"Alice\")\n",
    "say_hello(\"Bob\")\n"
   ]
  },
  {
   "cell_type": "code",
   "execution_count": null,
   "id": "93963045",
   "metadata": {},
   "outputs": [],
   "source": [
    "def print_many(thing, n):\n",
    "    for _ in range(n):\n",
    "        print(thing)\n",
    "\n",
    "print_many(\"Hello\", 3)"
   ]
  },
  {
   "cell_type": "code",
   "execution_count": null,
   "id": "803ee9e7",
   "metadata": {},
   "outputs": [
    {
     "name": "stdout",
     "output_type": "stream",
     "text": [
      "OK\n",
      "OK\n"
     ]
    }
   ],
   "source": [
    "def surround(string, sides):\n",
    "    return (sides + string + sides)\n",
    "def assert_equal(actual, expected):\n",
    "    if actual == expected:\n",
    "        print(\"OK\")\n",
    "    else:\n",
    "        print(f\"Error {repr(actual)} != {repr(expected)}\")\n",
    "    \n",
    "assert_equal(surround(\"more\", \"++\"), \"++more++\")\n",
    "assert_equal(surround(\"the same\", \"=\"), \"=the same=\")"
   ]
  },
  {
   "cell_type": "code",
   "execution_count": null,
   "id": "9f0ee866",
   "metadata": {},
   "outputs": [],
   "source": [
    "def surround(string, sides):\n",
    "    return (sides + string + sides)\n",
    "def alert(string, level):\n",
    "    mark = surround(string, ' ')\n",
    "    for value in range(level):\n",
    "        mark = surround(mark, '!')\n",
    "    return mark\n",
    "def assert_equal(actual, expected):\n",
    "    if actual == expected:\n",
    "        print(\"OK\")\n",
    "    else:\n",
    "        print(f\"Error {repr(actual)} != {repr(expected)}\")\n",
    "    \n",
    "assert_equal(surround(\"more\", \"++\"), \"++more++\")\n",
    "assert_equal(surround(\"the same\", \"=\"), \"=the same=\")\n",
    "\n",
    "assert_equal(alert(\"Warning\", 2), \"!! Warning !!\")\n",
    "assert_equal(alert(\"DANGER\", 4), \"!!!! DANGER !!!!\")\n",
    "\n",
    "\n",
    "def is_valid_percentage(x):\n",
    "    if x >= 0 and x <= 100:\n",
    "        return True\n",
    "    else:\n",
    "        return False\n",
    "\n",
    "assert_equal(is_valid_percentage(-1), False)\n",
    "assert_equal(is_valid_percentage(0), True)\n",
    "assert_equal(is_valid_percentage(50), True)\n",
    "assert_equal(is_valid_percentage(100), True)\n",
    "assert_equal(is_valid_percentage(101), False)"
   ]
  },
  {
   "cell_type": "code",
   "execution_count": null,
   "id": "509b9422",
   "metadata": {},
   "outputs": [],
   "source": [
    "def all_equal(row):\n",
    "    return row[0] == row[1] == row[2]\n",
    "def assert_equal(actual, expected):\n",
    "    if actual == expected:\n",
    "        print(\"OK\")\n",
    "    else:\n",
    "        print(f\"Error {repr(actual)} != {repr(expected)}\")\n",
    "\n",
    "assert_equal(all_equal([\"X\", \"X\", \"X\"]), True)\n",
    "assert_equal(all_equal([\"O\", \"O\", \"O\"]), True)\n",
    "assert_equal(all_equal([\"X\", \"O\", \"X\"]), False)"
   ]
  },
  {
   "cell_type": "code",
   "execution_count": null,
   "id": "137b850c",
   "metadata": {},
   "outputs": [],
   "source": [
    "def is_valid_percentage(x):\n",
    "    return 0 <= x <= 100"
   ]
  },
  {
   "cell_type": "code",
   "execution_count": null,
   "id": "aeca1dfd",
   "metadata": {},
   "outputs": [],
   "source": [
    "name = \"Bob\"\n",
    "\n",
    "is_friend = name == \"Alice\" or \\\n",
    "            name == \"Bob\"\n",
    "print(is_friend)\n",
    "\n",
    "is_friend = (name == \"Alice\" or\n",
    "             name == \"Bob\")\n",
    "print(is_friend)\n",
    "\n",
    "is_friend = [name == \"Alice\",\n",
    "             name == \"Bob\"]\n",
    "print(is_friend)\n",
    "\n",
    "print(name == \"Alice\" or\n",
    "      name == \"Bob\")"
   ]
  },
  {
   "cell_type": "code",
   "execution_count": null,
   "id": "a3870190",
   "metadata": {},
   "outputs": [],
   "source": [
    "def diagonal_winner(board):\n",
    "    return board[0][0] == board[1][1] == board[2][2] or board[0][2] == board[1][1] == board[2][0]\n",
    "    \n",
    "\n",
    "assert_equal(\n",
    "    diagonal_winner(\n",
    "        [\n",
    "            ['X', 'O', 'X'],\n",
    "            ['X', 'X', 'O'],\n",
    "            ['O', 'O', 'X']\n",
    "        ]\n",
    "    ),\n",
    "    True\n",
    ")\n",
    "\n",
    "assert_equal(\n",
    "    diagonal_winner(\n",
    "        [\n",
    "            ['X', 'X', 'O'],\n",
    "            ['X', 'O', 'O'],\n",
    "            ['O', 'X', 'X']\n",
    "        ]\n",
    "    ),\n",
    "    True\n",
    ")\n",
    "\n",
    "assert_equal(\n",
    "    diagonal_winner(\n",
    "        [\n",
    "            ['O', 'X', 'O'],\n",
    "            ['X', 'X', 'X'],\n",
    "            ['O', 'O', 'X']\n",
    "        ]\n",
    "    ),\n",
    "    False\n",
    ")"
   ]
  },
  {
   "cell_type": "code",
   "execution_count": null,
   "id": "a5b7c5c5",
   "metadata": {},
   "outputs": [],
   "source": [
    "def row_winner(board):\n",
    "    rowlist = []\n",
    "    for row in board:\n",
    "        result = True\n",
    "        playerstr1 = row[0]\n",
    "        if playerstr1 == ' ':\n",
    "            result = False\n",
    "        for string in row:\n",
    "            if string != playerstr1:\n",
    "                result = False\n",
    "        rowlist.append(result)\n",
    "    print(rowlist)\n",
    "    for row in rowlist:\n",
    "        if row:\n",
    "            return True\n",
    "    return False\n",
    "            \n",
    "\n",
    "assert_equal(\n",
    "    row_winner(\n",
    "        [\n",
    "            ['A', 'A', 'B', 'A'],\n",
    "            [' ', ' ', ' ', ' '],\n",
    "            ['A', ' ', ' ', 'A'],\n",
    "            ['B', ' ', 'B', 'A']\n",
    "        ]\n",
    "    ),\n",
    "    False\n",
    ")\n",
    "assert_equal(\n",
    "    row_winner(\n",
    "        [\n",
    "            ['X', ' ', 'X'],\n",
    "            ['O', 'X', 'X'],\n",
    "            ['O', 'O', 'O']\n",
    "        ]\n",
    "    ),\n",
    "    True\n",
    ")\n",
    "assert_equal(\n",
    "    row_winner(\n",
    "        [\n",
    "            ['U', 'N', ' ', 'U', ' ', ' '],\n",
    "            ['N', 'N', 'N', 'U', 'U', 'U'],\n",
    "            [' ', 'N', 'N', 'N', 'U', 'U'],\n",
    "            [' ', 'U', ' ', 'N', 'U', ' '],\n",
    "            ['U', ' ', ' ', 'N', 'N', 'U'],\n",
    "            ['N', 'N', 'N', 'N', 'N', 'N']\n",
    "        ]\n",
    "    ),\n",
    "    True\n",
    ")"
   ]
  },
  {
   "cell_type": "code",
   "execution_count": null,
   "id": "e402b11f",
   "metadata": {},
   "outputs": [],
   "source": [
    "def invalid_image(filename):\n",
    "    return not filename.endswith(\".png\") and not filename.endswith(\".jpg\")\n",
    "        \n",
    "assert_equal(invalid_image(\"dog.png\"), False)\n",
    "assert_equal(invalid_image(\"cat.jpg\"), False)\n",
    "assert_equal(invalid_image(\"invoice.pdf\"), True)"
   ]
  },
  {
   "cell_type": "code",
   "execution_count": null,
   "id": "b03d092b",
   "metadata": {},
   "outputs": [
    {
     "name": "stdout",
     "output_type": "stream",
     "text": [
      "[False, True]\n",
      "OK\n",
      "[False, False]\n",
      "OK\n"
     ]
    }
   ],
   "source": [
    "def row_winner(board):\n",
    "    rowlist = []\n",
    "    for row in board:\n",
    "        result = True\n",
    "        playerstr1 = row[0]\n",
    "        if playerstr1 == ' ':\n",
    "            result = False\n",
    "        for string in row:\n",
    "            if string != playerstr1:\n",
    "                result = False\n",
    "        rowlist.append(result)\n",
    "    print(rowlist)\n",
    "    for row in rowlist:\n",
    "        if row:\n",
    "            return True\n",
    "    return False\n",
    "\n",
    "def column_winner(board):\n",
    "    zeile = ''\n",
    "    zeilist = []\n",
    "\n",
    "    for number in range(len(board[0])):\n",
    "        for string in board:\n",
    "            zeile += string[number]\n",
    "            result = True\n",
    "            zeicha1 = zeile[0]\n",
    "            for char in zeile:\n",
    "                if char == ' ':\n",
    "                    result = False\n",
    "                if char != zeicha1:\n",
    "                        result = False\n",
    "        zeilist.append(result)\n",
    "        print(zeile)\n",
    "        zeile = ''\n",
    "        \n",
    "    print(zeilist)\n",
    "    \n",
    "    for zeile in zeilist:\n",
    "        if zeile:\n",
    "            return True\n",
    "    return False\n",
    "                \n",
    "def diagonal_winner(board):\n",
    "    final_result = []\n",
    "    aa_elements = [board[i][i] for i in range(len(board[0]))]\n",
    "    result = True\n",
    "    for thing in aa_elements:\n",
    "        if thing != aa_elements[0] or thing == ' ':\n",
    "            result = False\n",
    "    final_result.append(result)\n",
    "    \n",
    "    aa_elements = [board[len(board[0])-1-i][i] for i in range(len(board[0]))]\n",
    "    result = True\n",
    "    for thing in aa_elements:\n",
    "        if thing != aa_elements[0] or thing == ' ':\n",
    "            result = False\n",
    "    final_result.append(result)\n",
    "    print(final_result)\n",
    "    return bool(max(final_result))\n",
    "\n",
    "assert_equal(\n",
    "    diagonal_winner(\n",
    "        [\n",
    "            ['O', 'X', 'O', 'X'],\n",
    "            [' ', 'O', 'X', ' '],\n",
    "            ['X', 'X', ' ', 'X'],\n",
    "            ['X', ' ', 'O', 'O']\n",
    "        ]\n",
    "    ),\n",
    "    True\n",
    ")\n",
    "assert_equal(\n",
    "    diagonal_winner(\n",
    "        [\n",
    "            ['X', 'X', ' '],\n",
    "            ['X', ' ', 'O'],\n",
    "            [' ', 'O', 'O']\n",
    "        ]\n",
    "    ),\n",
    "    False\n",
    ")"
   ]
  },
  {
   "cell_type": "code",
   "execution_count": null,
   "id": "f9766746",
   "metadata": {},
   "outputs": [
    {
     "name": "stdout",
     "output_type": "stream",
     "text": [
      "OK\n",
      "OK\n",
      "OK\n"
     ]
    }
   ],
   "source": [
    "def winner(board):\n",
    "    return row_winner(board) or column_winner(board) or diagonal_winner(board)\n",
    "\n",
    "def winning_line(strings):\n",
    "    piece = strings[0]\n",
    "    if piece == ' ':\n",
    "        return False\n",
    "    for entry in strings:\n",
    "        if piece != entry:\n",
    "            return False\n",
    "    return True\n",
    "\n",
    "def row_winner(board):\n",
    "    for row in board:\n",
    "        if winning_line(row):\n",
    "            return True\n",
    "    return False\n",
    "\n",
    "def column_winner(board):\n",
    "    for col in range(len(board[0])):\n",
    "        column = []\n",
    "        for row in board:\n",
    "            column.append(row[col])\n",
    "        if winning_line(column):\n",
    "            return True\n",
    "    return False\n",
    "\n",
    "def diagonal_winner(board):\n",
    "    diagonal1 = []\n",
    "    diagonal2 = []\n",
    "    for i in range(len(board)):\n",
    "        diagonal1.append(board[i][i])\n",
    "        diagonal2.append(board[i][-i-1])\n",
    "    return winning_line(diagonal1) or winning_line(diagonal2)\n",
    "\n",
    "assert_equal(\n",
    "    winner(\n",
    "        [\n",
    "            ['X', 'X', 'X', ' '],\n",
    "            ['X', 'X', ' ', ' '],\n",
    "            ['X', ' ', 'O', 'X'],\n",
    "            [' ', ' ', 'O', 'X']\n",
    "        ]\n",
    "    ),\n",
    "    False\n",
    ")\n",
    "assert_equal(\n",
    "    winner(\n",
    "        [\n",
    "            ['X', ' ', 'X'],\n",
    "            ['O', 'X', 'O'],\n",
    "            ['O', 'O', 'O']\n",
    "        ]\n",
    "    ),\n",
    "    True\n",
    ")\n",
    "assert_equal(\n",
    "    winner(\n",
    "        [\n",
    "            ['X', ' '],\n",
    "            ['X', 'O']\n",
    "        ]\n",
    "    ),\n",
    "    True\n",
    ")"
   ]
  },
  {
   "cell_type": "code",
   "execution_count": 29,
   "id": "1c0da272",
   "metadata": {},
   "outputs": [
    {
     "name": "stdout",
     "output_type": "stream",
     "text": [
      "hihello\n"
     ]
    }
   ],
   "source": [
    "abc = ['hi', 'hello']\n",
    "oka = \"\"\n",
    "\n",
    "print(oka.join(abc))"
   ]
  },
  {
   "cell_type": "code",
   "execution_count": null,
   "id": "738d76c0",
   "metadata": {},
   "outputs": [
    {
     "name": "stdout",
     "output_type": "stream",
     "text": [
      "XOX\n",
      " OO\n",
      " X \n"
     ]
    }
   ],
   "source": [
    "def print_board(board):\n",
    "    for row in board:\n",
    "        print(\"\".join(row))\n",
    "\n",
    "print_board([\n",
    "    ['X', 'O', 'X'],\n",
    "    [' ', 'O', 'O'],\n",
    "    [' ', 'X', ' ']\n",
    "])\n"
   ]
  },
  {
   "cell_type": "code",
   "execution_count": null,
   "id": "b260aaa5",
   "metadata": {},
   "outputs": [],
   "source": [
    "def format_board(board):\n",
    "    col_numbers = ' ' + ''.join(str(i + 1) for i in range(len(board[0])))\n",
    "\n",
    "    rows = []\n",
    "    for i, row in enumerate(board):\n",
    "        rows.append(str(i + 1) + ''.join(row))\n",
    "\n",
    "    return col_numbers + '\\n' + '\\n'.join(rows)\n",
    "\n",
    "\n",
    "assert_equal(\n",
    "    format_board([\n",
    "        ['X', 'O', 'X'],\n",
    "        ['O', ' ', ' '],\n",
    "        [' ', 'X', 'O']\n",
    "    ]),\n",
    "    ' 123\\n1XOX\\n2O  \\n3 XO'\n",
    ")"
   ]
  },
  {
   "cell_type": "code",
   "execution_count": 10,
   "id": "f57bf852",
   "metadata": {},
   "outputs": [
    {
     "name": "stdout",
     "output_type": "stream",
     "text": [
      "A|O|A\n",
      "-+-+-\n",
      "O|A|O\n",
      "-+-+-\n",
      "O|A|O\n"
     ]
    }
   ],
   "source": [
    "def format_board(board):\n",
    "    rows = ['|'.join(row) for row in board]\n",
    "    for row in board:\n",
    "        dvdr = ''\n",
    "        for char in row:\n",
    "            dvdr += '-'\n",
    "        dvdr = '+'.join(dvdr)\n",
    "    dvdr = '\\n' + dvdr + '\\n'\n",
    "            \n",
    "    return dvdr.join(rows)\n",
    "        \n",
    "board = [\n",
    "    ['A', 'O', 'A'], \n",
    "    ['O', 'A', 'O'], \n",
    "    ['O', 'A', 'O']\n",
    "]\n",
    "    \n",
    "print(format_board(board))"
   ]
  },
  {
   "cell_type": "code",
   "execution_count": null,
   "id": "2ad6f739",
   "metadata": {},
   "outputs": [],
   "source": [
    "number = 3\n",
    "for i in range(int(number)):\n",
    "    value = i + 1\n",
    "    print('Starting... ' + str(value))\n",
    "print('Go!')"
   ]
  },
  {
   "cell_type": "code",
   "execution_count": 11,
   "id": "a3665335",
   "metadata": {},
   "outputs": [
    {
     "ename": "NameError",
     "evalue": "name 'assert_equal' is not defined",
     "output_type": "error",
     "traceback": [
      "\u001b[31m---------------------------------------------------------------------------\u001b[39m",
      "\u001b[31mNameError\u001b[39m                                 Traceback (most recent call last)",
      "\u001b[36mCell\u001b[39m\u001b[36m \u001b[39m\u001b[32mIn[11]\u001b[39m\u001b[32m, line 9\u001b[39m\n\u001b[32m      6\u001b[39m         result += price * quantity\n\u001b[32m      7\u001b[39m     \u001b[38;5;28;01mreturn\u001b[39;00m result\n\u001b[32m----> \u001b[39m\u001b[32m9\u001b[39m \u001b[43massert_equal\u001b[49m(\n\u001b[32m     10\u001b[39m     total_cost(\n\u001b[32m     11\u001b[39m         [\u001b[33m'\u001b[39m\u001b[33mdog\u001b[39m\u001b[33m'\u001b[39m, \u001b[33m'\u001b[39m\u001b[33mbox\u001b[39m\u001b[33m'\u001b[39m],\n\u001b[32m     12\u001b[39m         {\u001b[33m'\u001b[39m\u001b[33mdog\u001b[39m\u001b[33m'\u001b[39m: \u001b[32m5000000\u001b[39m, \u001b[33m'\u001b[39m\u001b[33mbox\u001b[39m\u001b[33m'\u001b[39m: \u001b[32m2\u001b[39m},\n\u001b[32m     13\u001b[39m         {\u001b[33m'\u001b[39m\u001b[33mapple\u001b[39m\u001b[33m'\u001b[39m: \u001b[32m2\u001b[39m, \u001b[33m'\u001b[39m\u001b[33mbox\u001b[39m\u001b[33m'\u001b[39m: \u001b[32m5\u001b[39m, \u001b[33m'\u001b[39m\u001b[33mcat\u001b[39m\u001b[33m'\u001b[39m: \u001b[32m100\u001b[39m, \u001b[33m'\u001b[39m\u001b[33mdog\u001b[39m\u001b[33m'\u001b[39m: \u001b[32m100\u001b[39m},\n\u001b[32m     14\u001b[39m     ),\n\u001b[32m     15\u001b[39m     \u001b[32m500000010\u001b[39m,\n\u001b[32m     16\u001b[39m )\n",
      "\u001b[31mNameError\u001b[39m: name 'assert_equal' is not defined"
     ]
    }
   ],
   "source": [
    "def total_cost(cart, quantities, prices):\n",
    "    result = 0\n",
    "    for item in cart:\n",
    "        price = prices[item]\n",
    "        quantity = quantities[item]\n",
    "        result += price * quantity\n",
    "    return result\n",
    "\n",
    "assert_equal(\n",
    "    total_cost(\n",
    "        ['dog', 'box'],\n",
    "        {'dog': 5000000, 'box': 2},\n",
    "        {'apple': 2, 'box': 5, 'cat': 100, 'dog': 100},\n",
    "    ),\n",
    "    500000010,\n",
    ")"
   ]
  },
  {
   "cell_type": "code",
   "execution_count": null,
   "id": "d38b589b",
   "metadata": {},
   "outputs": [],
   "source": [
    "def substitute(string, d):\n",
    "    output = ''\n",
    "    for letter in string:\n",
    "        output += d[letter]\n",
    "    return output\n",
    "\n",
    "original = 'AGTAGCGTCCTTAGTTACAGGATGGCTTAT'\n",
    "expected = 'TCATCGCAGGAATCAATGTCCTACCGAATA'\n",
    "assert_equal(substitute(original, {'A': 'T', 'T': 'A', 'C': 'G', 'G': 'C'}), expected)"
   ]
  },
  {
   "cell_type": "code",
   "execution_count": null,
   "id": "a4c9baff",
   "metadata": {},
   "outputs": [],
   "source": [
    "def total_cost(quantities, prices):\n",
    "    result = 0\n",
    "    for item in quantities.keys():\n",
    "        price = prices[item]\n",
    "        quantity = quantities[item]\n",
    "        result += price * quantity\n",
    "    return result\n",
    "\n",
    "assert_equal(\n",
    "    total_cost(\n",
    "        {'dog': 5000000, 'box': 2},\n",
    "        {'apple': 2, 'box': 5, 'cat': 100, 'dog': 100},\n",
    "    ),\n",
    "    500000010,\n",
    ")"
   ]
  },
  {
   "cell_type": "code",
   "execution_count": 7,
   "id": "25e1ccfa",
   "metadata": {},
   "outputs": [
    {
     "name": "stdout",
     "output_type": "stream",
     "text": [
      "English: apple\n",
      "French: pomme\n",
      "German: Apfel\n",
      "---\n",
      "English: box\n",
      "French: boite\n",
      "German: Kiste\n",
      "---\n"
     ]
    }
   ],
   "source": [
    "def print_words(french, german):\n",
    "    for key in french:\n",
    "        print('English: ' + key + '\\n' + 'French: ' + french[key] + '\\n' + 'German: ' + german[key] + '\\n' + '---')\n",
    "\n",
    "print_words(\n",
    "    {'apple': 'pomme', 'box': 'boite'},\n",
    "    {'apple': 'Apfel', 'box': 'Kiste'},\n",
    ")\n"
   ]
  },
  {
   "cell_type": "code",
   "execution_count": null,
   "id": "97c9bb2f",
   "metadata": {},
   "outputs": [
    {
     "name": "stdout",
     "output_type": "stream",
     "text": [
      "What number am I thinking of?\n"
     ]
    },
    {
     "ename": "KeyboardInterrupt",
     "evalue": "Interrupted by user",
     "output_type": "error",
     "traceback": [
      "\u001b[31m---------------------------------------------------------------------------\u001b[39m",
      "\u001b[31mKeyboardInterrupt\u001b[39m                         Traceback (most recent call last)",
      "\u001b[36mCell\u001b[39m\u001b[36m \u001b[39m\u001b[32mIn[13]\u001b[39m\u001b[32m, line 4\u001b[39m\n\u001b[32m      1\u001b[39m super_secret_number = \u001b[32m7\u001b[39m\n\u001b[32m      3\u001b[39m \u001b[38;5;28mprint\u001b[39m(\u001b[33m\"\u001b[39m\u001b[33mWhat number am I thinking of?\u001b[39m\u001b[33m\"\u001b[39m)\n\u001b[32m----> \u001b[39m\u001b[32m4\u001b[39m guess = \u001b[38;5;28mint\u001b[39m(\u001b[38;5;28;43minput\u001b[39;49m\u001b[43m(\u001b[49m\u001b[43m)\u001b[49m)\n\u001b[32m      5\u001b[39m \u001b[38;5;28;01mif\u001b[39;00m guess == super_secret_number:\n\u001b[32m      6\u001b[39m     \u001b[38;5;28mprint\u001b[39m(\u001b[33m\"\u001b[39m\u001b[33mAmazing! Are you psychic?\u001b[39m\u001b[33m\"\u001b[39m)\n",
      "\u001b[36mFile \u001b[39m\u001b[32m~/Documents/tilda/.venv/lib/python3.13/site-packages/ipykernel/kernelbase.py:1282\u001b[39m, in \u001b[36mKernel.raw_input\u001b[39m\u001b[34m(self, prompt)\u001b[39m\n\u001b[32m   1280\u001b[39m     msg = \u001b[33m\"\u001b[39m\u001b[33mraw_input was called, but this frontend does not support input requests.\u001b[39m\u001b[33m\"\u001b[39m\n\u001b[32m   1281\u001b[39m     \u001b[38;5;28;01mraise\u001b[39;00m StdinNotImplementedError(msg)\n\u001b[32m-> \u001b[39m\u001b[32m1282\u001b[39m \u001b[38;5;28;01mreturn\u001b[39;00m \u001b[38;5;28;43mself\u001b[39;49m\u001b[43m.\u001b[49m\u001b[43m_input_request\u001b[49m\u001b[43m(\u001b[49m\n\u001b[32m   1283\u001b[39m \u001b[43m    \u001b[49m\u001b[38;5;28;43mstr\u001b[39;49m\u001b[43m(\u001b[49m\u001b[43mprompt\u001b[49m\u001b[43m)\u001b[49m\u001b[43m,\u001b[49m\n\u001b[32m   1284\u001b[39m \u001b[43m    \u001b[49m\u001b[38;5;28;43mself\u001b[39;49m\u001b[43m.\u001b[49m\u001b[43m_parent_ident\u001b[49m\u001b[43m[\u001b[49m\u001b[33;43m\"\u001b[39;49m\u001b[33;43mshell\u001b[39;49m\u001b[33;43m\"\u001b[39;49m\u001b[43m]\u001b[49m\u001b[43m,\u001b[49m\n\u001b[32m   1285\u001b[39m \u001b[43m    \u001b[49m\u001b[38;5;28;43mself\u001b[39;49m\u001b[43m.\u001b[49m\u001b[43mget_parent\u001b[49m\u001b[43m(\u001b[49m\u001b[33;43m\"\u001b[39;49m\u001b[33;43mshell\u001b[39;49m\u001b[33;43m\"\u001b[39;49m\u001b[43m)\u001b[49m\u001b[43m,\u001b[49m\n\u001b[32m   1286\u001b[39m \u001b[43m    \u001b[49m\u001b[43mpassword\u001b[49m\u001b[43m=\u001b[49m\u001b[38;5;28;43;01mFalse\u001b[39;49;00m\u001b[43m,\u001b[49m\n\u001b[32m   1287\u001b[39m \u001b[43m\u001b[49m\u001b[43m)\u001b[49m\n",
      "\u001b[36mFile \u001b[39m\u001b[32m~/Documents/tilda/.venv/lib/python3.13/site-packages/ipykernel/kernelbase.py:1325\u001b[39m, in \u001b[36mKernel._input_request\u001b[39m\u001b[34m(self, prompt, ident, parent, password)\u001b[39m\n\u001b[32m   1322\u001b[39m \u001b[38;5;28;01mexcept\u001b[39;00m \u001b[38;5;167;01mKeyboardInterrupt\u001b[39;00m:\n\u001b[32m   1323\u001b[39m     \u001b[38;5;66;03m# re-raise KeyboardInterrupt, to truncate traceback\u001b[39;00m\n\u001b[32m   1324\u001b[39m     msg = \u001b[33m\"\u001b[39m\u001b[33mInterrupted by user\u001b[39m\u001b[33m\"\u001b[39m\n\u001b[32m-> \u001b[39m\u001b[32m1325\u001b[39m     \u001b[38;5;28;01mraise\u001b[39;00m \u001b[38;5;167;01mKeyboardInterrupt\u001b[39;00m(msg) \u001b[38;5;28;01mfrom\u001b[39;00m\u001b[38;5;250m \u001b[39m\u001b[38;5;28;01mNone\u001b[39;00m\n\u001b[32m   1326\u001b[39m \u001b[38;5;28;01mexcept\u001b[39;00m \u001b[38;5;167;01mException\u001b[39;00m:\n\u001b[32m   1327\u001b[39m     \u001b[38;5;28mself\u001b[39m.log.warning(\u001b[33m\"\u001b[39m\u001b[33mInvalid Message:\u001b[39m\u001b[33m\"\u001b[39m, exc_info=\u001b[38;5;28;01mTrue\u001b[39;00m)\n",
      "\u001b[31mKeyboardInterrupt\u001b[39m: Interrupted by user"
     ]
    }
   ],
   "source": [
    "super_secret_number = 7\n",
    "\n",
    "print(\"What number am I thinking of?\")\n",
    "guess = int(input())\n",
    "if guess == super_secret_number:\n",
    "    print(\"Amazing! Are you psychic?\")\n",
    "else:\n",
    "    print(\"Nope!\")\n",
    "\n",
    "#DO NOT RUN. VSCODE DOESNT DO INPUT??"
   ]
  },
  {
   "cell_type": "code",
   "execution_count": null,
   "id": "d78310c2",
   "metadata": {},
   "outputs": [],
   "source": [
    "def format_board(board):\n",
    "    first_row = ' '\n",
    "    for i in range(len(board)):\n",
    "        first_row += str(i + 1)\n",
    "    joined_rows = [first_row]\n",
    "    for i in range(len(board)):\n",
    "        joined_row = str(i + 1) + ''.join(board[i])\n",
    "        joined_rows.append(joined_row)\n",
    "    return \"\\n\".join(joined_rows)\n",
    "\n",
    "def play_game():\n",
    "    board = [\n",
    "        [' ', ' ', ' '],\n",
    "        [' ', ' ', ' '],\n",
    "        [' ', ' ', ' '],\n",
    "    ]\n",
    "    print(format_board(board))\n",
    "    print('\\nX to play:\\n')\n",
    "    play_move(board, 'X')\n",
    "    print(format_board(board))\n",
    "    print('\\nO to play:\\n')\n",
    "    play_move(board, 'O')\n",
    "    print(format_board(board))\n",
    "\n",
    "def play_move(board, player):\n",
    "    x_pos = int(input())-1\n",
    "    y_pos = int(input())-1\n",
    "    board[x_pos][y_pos] = player\n",
    "\n",
    "play_game()"
   ]
  },
  {
   "cell_type": "code",
   "execution_count": 69,
   "id": "bc189b4e",
   "metadata": {},
   "outputs": [
    {
     "name": "stdout",
     "output_type": "stream",
     "text": [
      "[{'text': 'Real Python', 'indices': [23, 34]}]\n"
     ]
    }
   ],
   "source": [
    "import requests\n",
    "\n",
    "response = requests.get(\n",
    "    \"https://api.github.com/search/repositories\",\n",
    "    params={\"q\": '\"real python\"'},\n",
    "    headers={\"Accept\": \"application/vnd.github.text-match+json\"},\n",
    ")\n",
    "\n",
    "# View the new `text-matches` list which provides information\n",
    "# about your search term within the results\n",
    "json_response = response.json()\n",
    "first_repository = json_response[\"items\"][0]\n",
    "print(first_repository[\"text_matches\"][0][\"matches\"])"
   ]
  },
  {
   "cell_type": "code",
   "execution_count": 70,
   "id": "d40f48f1",
   "metadata": {},
   "outputs": [
    {
     "ename": "NameError",
     "evalue": "name 'assert_equal' is not defined",
     "output_type": "error",
     "traceback": [
      "\u001b[31m---------------------------------------------------------------------------\u001b[39m",
      "\u001b[31mNameError\u001b[39m                                 Traceback (most recent call last)",
      "\u001b[36mCell\u001b[39m\u001b[36m \u001b[39m\u001b[32mIn[70]\u001b[39m\u001b[32m, line 26\u001b[39m\n\u001b[32m     19\u001b[39m     board[\u001b[32m0\u001b[39m][\u001b[32m0\u001b[39m] = \u001b[33m'\u001b[39m\u001b[33mX\u001b[39m\u001b[33m'\u001b[39m\n\u001b[32m     20\u001b[39m     assert_equal(board, [\n\u001b[32m     21\u001b[39m         [\u001b[33m'\u001b[39m\u001b[33mX\u001b[39m\u001b[33m'\u001b[39m, \u001b[33m'\u001b[39m\u001b[33m \u001b[39m\u001b[33m'\u001b[39m, \u001b[33m'\u001b[39m\u001b[33m \u001b[39m\u001b[33m'\u001b[39m],\n\u001b[32m     22\u001b[39m         [\u001b[33m'\u001b[39m\u001b[33m \u001b[39m\u001b[33m'\u001b[39m, \u001b[33m'\u001b[39m\u001b[33m \u001b[39m\u001b[33m'\u001b[39m, \u001b[33m'\u001b[39m\u001b[33m \u001b[39m\u001b[33m'\u001b[39m],\n\u001b[32m     23\u001b[39m         [\u001b[33m'\u001b[39m\u001b[33m \u001b[39m\u001b[33m'\u001b[39m, \u001b[33m'\u001b[39m\u001b[33m \u001b[39m\u001b[33m'\u001b[39m, \u001b[33m'\u001b[39m\u001b[33m \u001b[39m\u001b[33m'\u001b[39m],\n\u001b[32m     24\u001b[39m     ])\n\u001b[32m---> \u001b[39m\u001b[32m26\u001b[39m \u001b[43mtest\u001b[49m\u001b[43m(\u001b[49m\u001b[43m)\u001b[49m\n",
      "\u001b[36mCell\u001b[39m\u001b[36m \u001b[39m\u001b[32mIn[70]\u001b[39m\u001b[32m, line 14\u001b[39m, in \u001b[36mtest\u001b[39m\u001b[34m()\u001b[39m\n\u001b[32m     12\u001b[39m \u001b[38;5;28;01mdef\u001b[39;00m\u001b[38;5;250m \u001b[39m\u001b[34mtest\u001b[39m():\n\u001b[32m     13\u001b[39m     board = make_board(\u001b[32m3\u001b[39m)\n\u001b[32m---> \u001b[39m\u001b[32m14\u001b[39m     \u001b[43massert_equal\u001b[49m(board, [\n\u001b[32m     15\u001b[39m         [\u001b[33m'\u001b[39m\u001b[33m \u001b[39m\u001b[33m'\u001b[39m, \u001b[33m'\u001b[39m\u001b[33m \u001b[39m\u001b[33m'\u001b[39m, \u001b[33m'\u001b[39m\u001b[33m \u001b[39m\u001b[33m'\u001b[39m],\n\u001b[32m     16\u001b[39m         [\u001b[33m'\u001b[39m\u001b[33m \u001b[39m\u001b[33m'\u001b[39m, \u001b[33m'\u001b[39m\u001b[33m \u001b[39m\u001b[33m'\u001b[39m, \u001b[33m'\u001b[39m\u001b[33m \u001b[39m\u001b[33m'\u001b[39m],\n\u001b[32m     17\u001b[39m         [\u001b[33m'\u001b[39m\u001b[33m \u001b[39m\u001b[33m'\u001b[39m, \u001b[33m'\u001b[39m\u001b[33m \u001b[39m\u001b[33m'\u001b[39m, \u001b[33m'\u001b[39m\u001b[33m \u001b[39m\u001b[33m'\u001b[39m],\n\u001b[32m     18\u001b[39m     ])\n\u001b[32m     19\u001b[39m     board[\u001b[32m0\u001b[39m][\u001b[32m0\u001b[39m] = \u001b[33m'\u001b[39m\u001b[33mX\u001b[39m\u001b[33m'\u001b[39m\n\u001b[32m     20\u001b[39m     assert_equal(board, [\n\u001b[32m     21\u001b[39m         [\u001b[33m'\u001b[39m\u001b[33mX\u001b[39m\u001b[33m'\u001b[39m, \u001b[33m'\u001b[39m\u001b[33m \u001b[39m\u001b[33m'\u001b[39m, \u001b[33m'\u001b[39m\u001b[33m \u001b[39m\u001b[33m'\u001b[39m],\n\u001b[32m     22\u001b[39m         [\u001b[33m'\u001b[39m\u001b[33m \u001b[39m\u001b[33m'\u001b[39m, \u001b[33m'\u001b[39m\u001b[33m \u001b[39m\u001b[33m'\u001b[39m, \u001b[33m'\u001b[39m\u001b[33m \u001b[39m\u001b[33m'\u001b[39m],\n\u001b[32m     23\u001b[39m         [\u001b[33m'\u001b[39m\u001b[33m \u001b[39m\u001b[33m'\u001b[39m, \u001b[33m'\u001b[39m\u001b[33m \u001b[39m\u001b[33m'\u001b[39m, \u001b[33m'\u001b[39m\u001b[33m \u001b[39m\u001b[33m'\u001b[39m],\n\u001b[32m     24\u001b[39m     ])\n",
      "\u001b[31mNameError\u001b[39m: name 'assert_equal' is not defined"
     ]
    }
   ],
   "source": [
    "def make_board(size):\n",
    "    board = []\n",
    "    \n",
    "    for _ in range(size):\n",
    "        row = []\n",
    "        for _ in range(size):\n",
    "            row.append(' ')\n",
    "        board.append(row)\n",
    "        \n",
    "    return board\n",
    "\n",
    "def test():\n",
    "    board = make_board(3)\n",
    "    assert_equal(board, [\n",
    "        [' ', ' ', ' '],\n",
    "        [' ', ' ', ' '],\n",
    "        [' ', ' ', ' '],\n",
    "    ])\n",
    "    board[0][0] = 'X'\n",
    "    assert_equal(board, [\n",
    "        ['X', ' ', ' '],\n",
    "        [' ', ' ', ' '],\n",
    "        [' ', ' ', ' '],\n",
    "    ])\n",
    "\n",
    "test()"
   ]
  },
  {
   "cell_type": "code",
   "execution_count": null,
   "id": "ee79f0db",
   "metadata": {},
   "outputs": [
    {
     "name": "stdout",
     "output_type": "stream",
     "text": [
      "  1 2 3\n",
      "1  | | \n",
      "  -+-+-\n",
      "2  | | \n",
      "  -+-+-\n",
      "3  | | \n",
      "X to play:\n"
     ]
    }
   ],
   "source": [
    "def winning_line(strings):\n",
    "    strings = set(strings)\n",
    "    return len(strings) == 1 and ' ' not in strings\n",
    "\n",
    "def row_winner(board):\n",
    "    return any(winning_line(row) for row in board)\n",
    "\n",
    "def column_winner(board):\n",
    "    return row_winner(zip(*board))\n",
    "\n",
    "def main_diagonal_winner(board):\n",
    "    return winning_line(row[i] for i, row in enumerate(board))\n",
    "\n",
    "def diagonal_winner(board):\n",
    "    return main_diagonal_winner(board) or main_diagonal_winner(reversed(board))\n",
    "\n",
    "def winner(board):\n",
    "    return row_winner(board) or column_winner(board) or diagonal_winner(board)\n",
    "\n",
    "def format_board(board):\n",
    "    size = len(board)\n",
    "    line = f'\\n  {\"+\".join(\"-\" * size)}\\n'\n",
    "    rows = [f'{i + 1} {\"|\".join(row)}' for i, row in enumerate(board)]\n",
    "    return f'  {\" \".join(str(i + 1) for i in range(size))}\\n{line.join(rows)}'\n",
    "\n",
    "def play_move(board, player):\n",
    "    print(f'{player} to play:')\n",
    "    row = int(input()) - 1\n",
    "    col = int(input()) - 1\n",
    "    board[row][col] = player\n",
    "    print(format_board(board))\n",
    "\n",
    "def make_board(size):\n",
    "    return [[' '] * size for _ in range(size)]\n",
    "\n",
    "def print_winner(player):\n",
    "    print(f'{player} wins!')\n",
    "\n",
    "def print_draw():\n",
    "    print(\"It's a draw!\")\n",
    "\n",
    "def play_game(board_size, player1, player2):\n",
    "    board = make_board(board_size)\n",
    "    print(format_board(board))\n",
    "    number_turns = board_size ** 2\n",
    "    number_turn = board_size ** 2\n",
    "    for turn in range(number_turns):\n",
    "        if number_turn > 0:\n",
    "            play_move(board, player1)\n",
    "            if winner(board):\n",
    "                print_winner(player1)\n",
    "                break\n",
    "            number_turn -= 1\n",
    "        if number_turn > 0:\n",
    "            play_move(board, player2)\n",
    "            if winner(board):\n",
    "                print_winner(player2)\n",
    "                break\n",
    "            number_turn -= 1\n",
    "        else:\n",
    "            print_draw()\n",
    "            break\n",
    "        \n",
    "play_game(3, 'X', 'O')"
   ]
  },
  {
   "cell_type": "code",
   "execution_count": null,
   "id": "4cacc99d",
   "metadata": {},
   "outputs": [
    {
     "name": "stdout",
     "output_type": "stream",
     "text": [
      "Success!\n"
     ]
    }
   ],
   "source": [
    "import requests\n",
    "response = requests.get(\"https://api.github.com\")\n",
    "response.status_code\n",
    "\n",
    "if response.status_code < 400 and response.status_code >= 200:\n",
    "    print(\"Success!\")\n",
    "else:\n",
    "    raise Exception(f\"Non-success status code: {response.status_code}\")"
   ]
  },
  {
   "cell_type": "code",
   "execution_count": null,
   "id": "2ad057a0",
   "metadata": {},
   "outputs": [
    {
     "name": "stdout",
     "output_type": "stream",
     "text": [
      "Success!\n",
      "HTTP error occurred: <PreparedRequest [GET]>\n"
     ]
    }
   ],
   "source": [
    "import requests\n",
    "from requests.exceptions import HTTPError\n",
    "\n",
    "URLS = [\"https://api.github.com\", \"https://api.github.com/invalid\"]\n",
    "\n",
    "for url in URLS:\n",
    "    try:\n",
    "        response = requests.get(url)\n",
    "        response.raise_for_status()\n",
    "    except HTTPError as http_err:\n",
    "        print(f\"HTTP error occurred: {http_err}\")\n",
    "    except Exception as err:\n",
    "        print(f\"Other error occurred: {err}\")\n",
    "    else:\n",
    "        print(\"Success!\")"
   ]
  },
  {
   "cell_type": "code",
   "execution_count": null,
   "id": "74383f13",
   "metadata": {},
   "outputs": [
    {
     "name": "stdout",
     "output_type": "stream",
     "text": [
      "{\n",
      "  \"current_user_url\": \"https://api.github.com/user\",\n",
      "  \"current_user_authorizations_html_url\": \"https://github.com/settings/connections/applications{/client_id}\",\n",
      "  \"authorizations_url\": \"https://api.github.com/authorizations\",\n",
      "  \"code_search_url\": \"https://api.github.com/search/code?q={query}{&page,per_page,sort,order}\",\n",
      "  \"commit_search_url\": \"https://api.github.com/search/commits?q={query}{&page,per_page,sort,order}\",\n",
      "  \"emails_url\": \"https://api.github.com/user/emails\",\n",
      "  \"emojis_url\": \"https://api.github.com/emojis\",\n",
      "  \"events_url\": \"https://api.github.com/events\",\n",
      "  \"feeds_url\": \"https://api.github.com/feeds\",\n",
      "  \"followers_url\": \"https://api.github.com/user/followers\",\n",
      "  \"following_url\": \"https://api.github.com/user/following{/target}\",\n",
      "  \"gists_url\": \"https://api.github.com/gists{/gist_id}\",\n",
      "  \"hub_url\": \"https://api.github.com/hub\",\n",
      "  \"issue_search_url\": \"https://api.github.com/search/issues?q={query}{&page,per_page,sort,order}\",\n",
      "  \"issues_url\": \"https://api.github.com/issues\",\n",
      "  \"keys_url\": \"https://api.github.com/user/keys\",\n",
      "  \"label_search_url\": \"https://api.github.com/search/labels?q={query}&repository_id={repository_id}{&page,per_page}\",\n",
      "  \"notifications_url\": \"https://api.github.com/notifications\",\n",
      "  \"organization_url\": \"https://api.github.com/orgs/{org}\",\n",
      "  \"organization_repositories_url\": \"https://api.github.com/orgs/{org}/repos{?type,page,per_page,sort}\",\n",
      "  \"organization_teams_url\": \"https://api.github.com/orgs/{org}/teams\",\n",
      "  \"public_gists_url\": \"https://api.github.com/gists/public\",\n",
      "  \"rate_limit_url\": \"https://api.github.com/rate_limit\",\n",
      "  \"repository_url\": \"https://api.github.com/repos/{owner}/{repo}\",\n",
      "  \"repository_search_url\": \"https://api.github.com/search/repositories?q={query}{&page,per_page,sort,order}\",\n",
      "  \"current_user_repositories_url\": \"https://api.github.com/user/repos{?type,page,per_page,sort}\",\n",
      "  \"starred_url\": \"https://api.github.com/user/starred{/owner}{/repo}\",\n",
      "  \"starred_gists_url\": \"https://api.github.com/gists/starred\",\n",
      "  \"topic_search_url\": \"https://api.github.com/search/topics?q={query}{&page,per_page}\",\n",
      "  \"user_url\": \"https://api.github.com/users/{user}\",\n",
      "  \"user_organizations_url\": \"https://api.github.com/user/orgs\",\n",
      "  \"user_repositories_url\": \"https://api.github.com/users/{user}/repos{?type,page,per_page,sort}\",\n",
      "  \"user_search_url\": \"https://api.github.com/search/users?q={query}{&page,per_page,sort,order}\"\n",
      "}\n",
      "\n"
     ]
    },
    {
     "data": {
      "text/plain": [
       "{'Date': 'Fri, 04 Jul 2025 08:15:03 GMT', 'Content-Type': 'application/json; charset=utf-8', 'Cache-Control': 'public, max-age=60, s-maxage=60', 'Vary': 'Accept,Accept-Encoding, Accept, X-Requested-With', 'ETag': 'W/\"4f825cc84e1c733059d46e76e6df9db557ae5254f9625dfe8e1b09499c449438\"', 'X-GitHub-Media-Type': 'github.v3; format=json', 'x-github-api-version-selected': '2022-11-28', 'Access-Control-Expose-Headers': 'ETag, Link, Location, Retry-After, X-GitHub-OTP, X-RateLimit-Limit, X-RateLimit-Remaining, X-RateLimit-Used, X-RateLimit-Resource, X-RateLimit-Reset, X-OAuth-Scopes, X-Accepted-OAuth-Scopes, X-Poll-Interval, X-GitHub-Media-Type, X-GitHub-SSO, X-GitHub-Request-Id, Deprecation, Sunset', 'Access-Control-Allow-Origin': '*', 'Strict-Transport-Security': 'max-age=31536000; includeSubdomains; preload', 'X-Frame-Options': 'deny', 'X-Content-Type-Options': 'nosniff', 'X-XSS-Protection': '0', 'Referrer-Policy': 'origin-when-cross-origin, strict-origin-when-cross-origin', 'Content-Security-Policy': \"default-src 'none'\", 'Content-Encoding': 'gzip', 'Server': 'github.com', 'Accept-Ranges': 'bytes', 'X-RateLimit-Limit': '60', 'X-RateLimit-Remaining': '55', 'X-RateLimit-Reset': '1751620260', 'X-RateLimit-Resource': 'core', 'X-RateLimit-Used': '5', 'Content-Length': '530', 'X-GitHub-Request-Id': 'DCAF:4AAD7:C3B8C:C8445:68678D93'}"
      ]
     },
     "execution_count": 35,
     "metadata": {},
     "output_type": "execute_result"
    }
   ],
   "source": [
    "import requests\n",
    "\n",
    "response = requests.get(\"https://api.github.com\")\n",
    "response.content\n",
    "b'{\"current_user_url\":\"https://api.github.com/user\", ...}'\n",
    "\n",
    "type(response.content)\n",
    "type(response.text)\n",
    "\n",
    "response.text\n",
    "'{\"current_user_url\":\"https://api.github.com/user\", ...}'\n",
    "\n",
    "response.encoding = \"utf-8\"\n",
    "type(response.text)\n",
    "print(response.text)\n",
    "\n",
    "response.json()\n",
    "type(response.json())\n",
    "\n",
    "response_dict = response.json()\n",
    "response_dict[\"emojis_url\"]\n",
    "\n"
   ]
  },
  {
   "cell_type": "code",
   "execution_count": null,
   "id": "60a499b0",
   "metadata": {},
   "outputs": [
    {
     "name": "stdout",
     "output_type": "stream",
     "text": [
      "Date: Fri, 04 Jul 2025 08:18:15 GMT \n",
      "\n",
      "Cache-Control: public, max-age=60, s-maxage=60 \n",
      "\n",
      "Vary: Accept,Accept-Encoding, Accept, X-Requested-With \n",
      "\n",
      "ETag: \"4f825cc84e1c733059d46e76e6df9db557ae5254f9625dfe8e1b09499c449438\" \n",
      "\n",
      "x-github-api-version-selected: 2022-11-28 \n",
      "\n",
      "Access-Control-Expose-Headers: ETag, Link, Location, Retry-After, X-GitHub-OTP, X-RateLimit-Limit, X-RateLimit-Remaining, X-RateLimit-Used, X-RateLimit-Resource, X-RateLimit-Reset, X-OAuth-Scopes, X-Accepted-OAuth-Scopes, X-Poll-Interval, X-GitHub-Media-Type, X-GitHub-SSO, X-GitHub-Request-Id, Deprecation, Sunset \n",
      "\n",
      "Access-Control-Allow-Origin: * \n",
      "\n",
      "Strict-Transport-Security: max-age=31536000; includeSubdomains; preload \n",
      "\n",
      "X-Frame-Options: deny \n",
      "\n",
      "X-Content-Type-Options: nosniff \n",
      "\n",
      "X-XSS-Protection: 0 \n",
      "\n",
      "Referrer-Policy: origin-when-cross-origin, strict-origin-when-cross-origin \n",
      "\n",
      "Content-Security-Policy: default-src 'none' \n",
      "\n",
      "Server: github.com \n",
      "\n",
      "Content-Type: application/json; charset=utf-8 \n",
      "\n",
      "X-GitHub-Media-Type: github.v3; format=json \n",
      "\n",
      "Content-Encoding: gzip \n",
      "\n",
      "Accept-Ranges: bytes \n",
      "\n",
      "X-RateLimit-Limit: 60 \n",
      "\n",
      "X-RateLimit-Remaining: 52 \n",
      "\n",
      "X-RateLimit-Reset: 1751620260 \n",
      "\n",
      "X-RateLimit-Resource: core \n",
      "\n",
      "X-RateLimit-Used: 8 \n",
      "\n",
      "Content-Length: 510 \n",
      "\n",
      "X-GitHub-Request-Id: DCBC:4AAD7:FC2A6:101F76:68678E56 \n",
      "\n"
     ]
    }
   ],
   "source": [
    "import requests\n",
    "\n",
    "response = requests.get(\"https://api.github.com\")\n",
    "\n",
    "for key in response.headers:\n",
    "    print(f\"{key}: {response.headers[key]} \\n\")"
   ]
  },
  {
   "cell_type": "code",
   "execution_count": null,
   "id": "8010a704",
   "metadata": {},
   "outputs": [
    {
     "name": "stdout",
     "output_type": "stream",
     "text": [
      "Name: free-programming-books\n",
      "Description: :books: Freely available programming books\n",
      "Stars: 362004\n",
      "\n",
      "Name: public-apis\n",
      "Description: A collective list of free APIs\n",
      "Stars: 354697\n",
      "\n",
      "Name: system-design-primer\n",
      "Description: Learn how to design large-scale systems. Prep for the system design interview.  Includes Anki flashcards.\n",
      "Stars: 309666\n",
      "\n",
      "Name: awesome-python\n",
      "Description: An opinionated list of awesome Python frameworks, libraries, software and resources.\n",
      "Stars: 248887\n",
      "\n",
      "Name: Python\n",
      "Description: All Algorithms implemented in Python\n",
      "Stars: 202438\n",
      "\n"
     ]
    }
   ],
   "source": [
    "import requests\n",
    "\n",
    "# Search GitHub's repositories for popular Python projects\n",
    "response = requests.get(\n",
    "    \"https://api.github.com/search/repositories\",\n",
    "    params={\"q\": \"language:python\", \"sort\": \"stars\", \"order\": \"desc\"},\n",
    ")\n",
    "\n",
    "# Inspect some attributes of the first three repositories\n",
    "json_response = response.json()\n",
    "popular_repositories = json_response[\"items\"]\n",
    "for repo in popular_repositories[:5]:\n",
    "    print(f\"Name: {repo['name']}\")\n",
    "    print(f\"Description: {repo['description']}\")\n",
    "    print(f\"Stars: {repo['stargazers_count']}\") \n",
    "    print()"
   ]
  },
  {
   "cell_type": "code",
   "execution_count": null,
   "id": "ceafa35c",
   "metadata": {},
   "outputs": [
    {
     "name": "stdout",
     "output_type": "stream",
     "text": [
      "[{'text': 'Real Python', 'indices': [23, 34]}]\n"
     ]
    }
   ],
   "source": [
    "import requests\n",
    "\n",
    "response = requests.get(\n",
    "    \"https://api.github.com/search/repositories\",\n",
    "    params={\"q\": '\"real python\"'},\n",
    "    headers={\"Accept\": \"application/vnd.github.text-match+json\"},\n",
    ")\n",
    "\n",
    "# View the new `text-matches` list which provides information about your search term within the results\n",
    "json_response = response.json()\n",
    "first_repository = json_response[\"items\"][0]\n",
    "print(first_repository[\"text_matches\"][0][\"matches\"])"
   ]
  },
  {
   "cell_type": "code",
   "execution_count": null,
   "id": "c98371e3",
   "metadata": {},
   "outputs": [
    {
     "data": {
      "text/plain": [
       "<Response [200]>"
      ]
     },
     "execution_count": 42,
     "metadata": {},
     "output_type": "execute_result"
    }
   ],
   "source": [
    "import requests\n",
    "\n",
    "requests.get(\"https://httpbin.org/get\")\n",
    "\n",
    "requests.post(\"https://httpbin.org/post\", data={\"key\": \"value\"})\n",
    "\n",
    "requests.put(\"https://httpbin.org/put\", data={\"key\": \"value\"})\n",
    "\n",
    "requests.delete(\"https://httpbin.org/delete\")\n",
    "\n",
    "requests.head(\"https://httpbin.org/get\")\n",
    "\n",
    "requests.patch(\"https://httpbin.org/patch\", data={\"key\": \"value\"})\n",
    "\n",
    "requests.options(\"https://httpbin.org/get\")\n"
   ]
  },
  {
   "cell_type": "code",
   "execution_count": null,
   "id": "900a5df9",
   "metadata": {},
   "outputs": [
    {
     "name": "stdout",
     "output_type": "stream",
     "text": [
      "Barbarian\n",
      "Bard\n",
      "Cleric\n",
      "Druid\n",
      "Fighter\n",
      "Monk\n",
      "Paladin\n",
      "Ranger\n",
      "Rogue\n",
      "Sorcerer\n",
      "Warlock\n",
      "Wizard\n"
     ]
    }
   ],
   "source": [
    "response = requests.get(\"https://www.dnd5eapi.co/api/2014/classes/\")\n",
    "response_json = response.json()\n",
    "char_list = response_json[\"results\"]\n",
    "for number in range(int(response_json['count'])):\n",
    "    print(char_list[number][\"name\"])"
   ]
  },
  {
   "cell_type": "code",
   "execution_count": null,
   "id": "ebd5d6ec",
   "metadata": {},
   "outputs": [
    {
     "name": "stdout",
     "output_type": "stream",
     "text": [
      "Barbarian\n",
      "Bard\n",
      "Cleric\n",
      "Druid\n",
      "Fighter\n",
      "Monk\n",
      "Paladin\n",
      "Ranger\n",
      "Rogue\n",
      "Sorcerer\n",
      "Warlock\n",
      "Wizard\n"
     ]
    }
   ],
   "source": [
    "inhalt = requests.get(\"https://www.dnd5eapi.co/api/2014/classes/\")\n",
    "for number in range(int(inhalt.json()['count'])):\n",
    "    print(inhalt.json()['results'][number][\"name\"])"
   ]
  }
 ],
 "metadata": {
  "kernelspec": {
   "display_name": ".venv",
   "language": "python",
   "name": "python3"
  },
  "language_info": {
   "codemirror_mode": {
    "name": "ipython",
    "version": 3
   },
   "file_extension": ".py",
   "mimetype": "text/x-python",
   "name": "python",
   "nbconvert_exporter": "python",
   "pygments_lexer": "ipython3",
   "version": "3.13.5"
  }
 },
 "nbformat": 4,
 "nbformat_minor": 5
}
