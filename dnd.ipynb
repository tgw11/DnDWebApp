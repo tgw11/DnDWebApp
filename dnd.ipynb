{
 "cells": [
  {
   "cell_type": "code",
   "execution_count": null,
   "id": "2b81c0fa",
   "metadata": {},
   "outputs": [],
   "source": [
    "import requests\n",
    "import pandas as pd\n",
    "from tqdm import tqdm\n",
    "baseurl = \"https://www.dnd5eapi.co\"\n",
    "\n",
    "response = requests.get(baseurl + \"/api/2014/monsters\")\n",
    "\n",
    "monsters = response.json()\n",
    "monsters = monsters['results']\n",
    "monsterframe = pd.DataFrame(monsters)\n",
    "\n",
    "print(monsterframe.head())"
   ]
  },
  {
   "cell_type": "code",
   "execution_count": null,
   "id": "8670b67a",
   "metadata": {},
   "outputs": [],
   "source": [
    "monsterframe[\"full_url\"] = baseurl + monsterframe[\"url\"]\n",
    "\n",
    "df_monsters_details = pd.DataFrame()\n",
    "for index, row in tqdm(monsterframe.iterrows()):\n",
    "    url = row[\"full_url\"]\n",
    "    response = requests.get(url)\n",
    "    response_json = response.json()\n",
    "    allowed_keys = []\n",
    "    for key, value in response_json.items():\n",
    "        if isinstance(value, (str, int, float)):\n",
    "            allowed_keys.append(key)\n",
    "    filtered_dict = {key: response_json[key] for key in allowed_keys if key in response_json}\n",
    "    df_temp = pd.DataFrame(filtered_dict, index=[0])\n",
    "    df_monsters_details = pd.concat([df_monsters_details, df_temp], axis=0)\n",
    "\n",
    "\n",
    "df_monsters_details = df_monsters_details.reset_index(drop=True)"
   ]
  },
  {
   "cell_type": "code",
   "execution_count": null,
   "id": "d1dc61df",
   "metadata": {},
   "outputs": [],
   "source": [
    "df_monsters_details.to_csv(\"monsters.csv\")"
   ]
  },
  {
   "cell_type": "code",
   "execution_count": null,
   "id": "517cf528",
   "metadata": {},
   "outputs": [],
   "source": [
    "from PIL import Image\n",
    "from io import BytesIO\n",
    "\n",
    "# Load the image\n",
    "img = requests.get(baseurl + df_monsters_details[\"image\"][0])\n",
    "# Convert response content into an image\n",
    "image = Image.open(BytesIO(img.content))\n",
    "\n",
    "display(image)"
   ]
  },
  {
   "cell_type": "code",
   "execution_count": null,
   "id": "78341430",
   "metadata": {},
   "outputs": [],
   "source": [
    "def clean_values_in_dict(dnd_dict):\n",
    "    for key, value in dnd_dict.items():\n",
    "        if (type(value) == list):\n",
    "            print(key)\n",
    "            print(len(value))\n",
    "            print(value)\n",
    "\n",
    "response = requests.get(monsterframe[\"full_url\"][0])\n",
    "clean_values_in_dict(response.json())"
   ]
  },
  {
   "cell_type": "code",
   "execution_count": null,
   "id": "3e054b7a",
   "metadata": {},
   "outputs": [],
   "source": [
    "baseurl = \"https://www.dnd5eapi.co\"\n",
    "\n",
    "response2 = requests.get(baseurl + \"/api/2014/spells\")\n",
    "\n",
    "spells = response2.json()\n",
    "spells = spells['results']\n",
    "spellframe = pd.DataFrame(spells)\n",
    "\n",
    "print(\"so far it worked\")\n",
    "\n",
    "spellframe[\"full_url\"] = baseurl + spellframe[\"url\"]\n",
    "print(spellframe[\"full_url\"][0])\n",
    "df_spells_details = pd.DataFrame()\n",
    "print(df_spells_details)\n",
    "for index, row in (spellframe.iterrows()):\n",
    "    url = row[\"full_url\"]\n",
    "    response2 = requests.get(url)\n",
    "    response2_json = response2.json()\n",
    "    allowed_keys2 = []\n",
    "    for key, value in response2_json.items():\n",
    "        if isinstance(value, (str, int, float)):\n",
    "            allowed_keys2.append(key)\n",
    "    filtered_dict2 = {key: response2_json[key] for key in allowed_keys2 if key in response2_json}\n",
    "    df_temp2 = pd.DataFrame(filtered_dict2, index=[0])\n",
    "    df_spells_details = pd.concat([df_spells_details, df_temp2], axis=0)\n",
    "\n",
    "\n",
    "df_spells_details = df_spells_details.reset_index(drop=True)\n",
    "\n",
    "print(df_spells_details.head())"
   ]
  },
  {
   "cell_type": "code",
   "execution_count": null,
   "id": "2d21e8eb",
   "metadata": {},
   "outputs": [],
   "source": [
    "df_spells_details.to_csv(\"spells.csv\")"
   ]
  }
 ],
 "metadata": {
  "kernelspec": {
   "display_name": ".venv",
   "language": "python",
   "name": "python3"
  },
  "language_info": {
   "codemirror_mode": {
    "name": "ipython",
    "version": 3
   },
   "file_extension": ".py",
   "mimetype": "text/x-python",
   "name": "python",
   "nbconvert_exporter": "python",
   "pygments_lexer": "ipython3",
   "version": "3.13.5"
  }
 },
 "nbformat": 4,
 "nbformat_minor": 5
}
